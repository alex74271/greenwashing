{
 "metadata": {
  "language_info": {
   "codemirror_mode": {
    "name": "ipython",
    "version": 3
   },
   "file_extension": ".py",
   "mimetype": "text/x-python",
   "name": "python",
   "nbconvert_exporter": "python",
   "pygments_lexer": "ipython3",
   "version": "3.8.5"
  },
  "orig_nbformat": 2,
  "kernelspec": {
   "name": "python385jvsc74a57bd034810e3b8abeb1571717c8f8919795229980cb2ee192c7ee2ae46aa006f2e2cf",
   "display_name": "Python 3.8.5 64-bit ('greenwashing-HaCD2V1s': venv)"
  }
 },
 "nbformat": 4,
 "nbformat_minor": 2,
 "cells": [
  {
   "cell_type": "code",
   "execution_count": 12,
   "metadata": {},
   "outputs": [
    {
     "output_type": "execute_result",
     "data": {
      "text/plain": [
       "57"
      ]
     },
     "metadata": {},
     "execution_count": 12
    }
   ],
   "source": [
    "from selenium import webdriver\n",
    "from time import sleep\n",
    "from selenium.webdriver.firefox.options import Options\n",
    "from bs4 import BeautifulSoup\n",
    "\n",
    "options = Options()\n",
    "options.headless = True\n",
    "driver = webdriver.Firefox(options=options)\n",
    "\n",
    "url = \"https://www.thenorthface.com/shop/recycled-products#facet=filter_category:%22Insulated%20%26%20Down%22,filter_category:%22Fleece%22,filter_category:%22Rainwear%22,filter_category:%22Windbreaker%22,filter_category:%22Casual%20%26%20Hike%20Pants%22,filter_category:%22Vest%22,filter_category:%22Pants%22,filter_category:%22T-Shirts%22,filter_category:%22Baselayers%22,filter_category:%22Jackets%22,filter_category:%22Lifestyle%22,filter_category:%22Skiing%20%26%20Snowboarding%20Packs%22&beginIndex=0\"\n",
    "\n",
    "driver.get(url)\n",
    "sleep(4)\n",
    "\n",
    "while True:\n",
    "    try:\n",
    "        driver.find_element_by_class_name(\"load-more-btn-js\").click()\n",
    "        sleep(4)\n",
    "        continue\n",
    "    except:\n",
    "        break\n",
    "\n",
    "soup = BeautifulSoup(driver.page_source,'html.parser')\n",
    "\n",
    "links = []\n",
    "\n",
    "for product in soup.find_all(class_=\"product-block-figure\"):\n",
    "    links.append(product.find('a')['href'])\n",
    "\n",
    "driver.quit()\n",
    "\n",
    "len(links)"
   ]
  },
  {
   "source": [
    "57"
   ],
   "cell_type": "markdown",
   "metadata": {}
  },
  {
   "cell_type": "code",
   "execution_count": 38,
   "metadata": {},
   "outputs": [
    {
     "output_type": "stream",
     "name": "stdout",
     "text": [
      "Current progress: 98.25 %\n"
     ]
    },
    {
     "output_type": "execute_result",
     "data": {
      "text/plain": [
       "141"
      ]
     },
     "metadata": {},
     "execution_count": 38
    }
   ],
   "source": [
    "import random\n",
    "from selenium.webdriver.common.by import By\n",
    "from selenium.webdriver.support.ui import WebDriverWait\n",
    "from selenium.webdriver.support import expected_conditions as EC\n",
    "from IPython.display import clear_output\n",
    "\n",
    "driver = webdriver.Firefox(options=options)\n",
    "\n",
    "sleepTimes = [2.1, 2.8, 3.2]\n",
    "\n",
    "info_text = []\n",
    "for link in links:\n",
    "    clear_output(wait=True)\n",
    "    driver.get(link)\n",
    "    try:\n",
    "        element = WebDriverWait(driver, 10).until(EC.presence_of_element_located((By.ID, \"productDetailsAccordion\")))\n",
    "    #some don't have details so just continue\n",
    "    except:\n",
    "        continue\n",
    "    soup = BeautifulSoup(driver.page_source,'html.parser')\n",
    "\n",
    "    for item in soup.select('div.inner-content.product-details-section-inner-content.pdp-specifications-inner-content > dl.pdp-specifications-list > dl.pdp-specifications-list > dd.pdp-specifications-list-value'):\n",
    "        if \"%\" in item.text:\n",
    "            info_text.append(item.text)\n",
    "        else:\n",
    "            continue\n",
    "    \n",
    "    print(\"Current progress:\", round((links.index(link)/len(links))*100, 2), \"%\")\n",
    "    sleep(random.choice(sleepTimes))\n",
    "\n",
    "driver.quit()\n",
    "len(info_text)"
   ]
  },
  {
   "cell_type": "code",
   "execution_count": 39,
   "metadata": {},
   "outputs": [],
   "source": [
    "import pandas as pd\n",
    "\n",
    "materials_northface = pd.Series(info_text)\n",
    "materials_northface.to_csv(\"materials_northface.csv\")"
   ]
  },
  {
   "cell_type": "code",
   "execution_count": null,
   "metadata": {},
   "outputs": [],
   "source": []
  }
 ]
}