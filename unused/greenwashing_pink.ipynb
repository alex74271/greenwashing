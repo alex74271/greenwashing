{
 "metadata": {
  "language_info": {
   "codemirror_mode": {
    "name": "ipython",
    "version": 3
   },
   "file_extension": ".py",
   "mimetype": "text/x-python",
   "name": "python",
   "nbconvert_exporter": "python",
   "pygments_lexer": "ipython3",
   "version": "3.8.5"
  },
  "orig_nbformat": 2,
  "kernelspec": {
   "name": "python385jvsc74a57bd034810e3b8abeb1571717c8f8919795229980cb2ee192c7ee2ae46aa006f2e2cf",
   "display_name": "Python 3.8.5 64-bit ('greenwashing-HaCD2V1s': venv)"
  }
 },
 "nbformat": 4,
 "nbformat_minor": 2,
 "cells": [
  {
   "cell_type": "code",
   "execution_count": 2,
   "metadata": {},
   "outputs": [
    {
     "output_type": "execute_result",
     "data": {
      "text/plain": [
       "59"
      ]
     },
     "metadata": {},
     "execution_count": 2
    }
   ],
   "source": [
    "from selenium import webdriver\n",
    "from time import sleep\n",
    "from selenium.webdriver.firefox.options import Options\n",
    "from bs4 import BeautifulSoup\n",
    "\n",
    "options = Options()\n",
    "options.headless = True\n",
    "driver = webdriver.Firefox(options=options)\n",
    "\n",
    "url = \"https://www.victoriassecret.com/us/pink/tops-and-bottoms/ultimate?scroll=true\"\n",
    "\n",
    "driver.get(url)\n",
    "sleep(2)\n",
    "\n",
    "soup = BeautifulSoup(driver.page_source,'html.parser')\n",
    "\n",
    "links = []\n",
    "\n",
    "for link in soup.select('li.fabric-grid-component-item > article > a'):\n",
    "    #avoid duplicate link from image and title\n",
    "    if link['href'] not in links:\n",
    "        links.append(link['href'])\n",
    "    else:\n",
    "        continue\n",
    "\n",
    "driver.quit()\n",
    "\n",
    "len(links)"
   ]
  },
  {
   "source": [
    "59 items"
   ],
   "cell_type": "markdown",
   "metadata": {}
  },
  {
   "cell_type": "code",
   "execution_count": 80,
   "metadata": {},
   "outputs": [
    {
     "output_type": "stream",
     "name": "stdout",
     "text": [
      "Current progress: 100.0 %\n",
      "102\n"
     ]
    }
   ],
   "source": [
    "import random\n",
    "from selenium.webdriver.common.by import By\n",
    "from selenium.webdriver.support.ui import WebDriverWait\n",
    "from selenium.webdriver.support import expected_conditions as EC\n",
    "from IPython.display import clear_output\n",
    "import re\n",
    "\n",
    "driver = webdriver.Firefox(options=options)\n",
    "\n",
    "sleepTimes = [2.1, 2.8, 3.2]\n",
    "\n",
    "other_links = []\n",
    "info_text = []\n",
    "for link in links:\n",
    "    clear_output(wait=True)\n",
    "    driver.get(\"https://www.victoriassecret.com\" + link)\n",
    "    try:\n",
    "        element = WebDriverWait(driver, 10).until(EC.presence_of_element_located((By.ID, \"fabric-collapsible-info-component-body-fabrication-info-collapsible-info\")))\n",
    "    except:\n",
    "        print(\"error\")\n",
    "    soup = BeautifulSoup(driver.page_source,'html.parser')\n",
    "\n",
    "    # found some formatted as li, not p, so add to a separate list\n",
    "    try:\n",
    "        p = soup.select_one('#fabric-collapsible-info-component-body-fabrication-info-collapsible-info > span:nth-child(1) > p:nth-child(1)').text\n",
    "    except:\n",
    "        other_links.append(link)\n",
    "        continue\n",
    "    info = re.split(r\"\\s(?=\\w+:)\", p)\n",
    "    info_text.extend(info)\n",
    "\n",
    "    print(\"Current progress:\", round( ( (links.index(link) + 1) / len(links) )*100, 2 ), \"%\")\n",
    "    sleep(random.choice(sleepTimes))\n",
    "    \n",
    "driver.quit()\n",
    "print(len(info_text))"
   ]
  },
  {
   "cell_type": "code",
   "execution_count": 89,
   "metadata": {},
   "outputs": [
    {
     "output_type": "stream",
     "name": "stdout",
     "text": [
      "Current progress: 100.0 %\n",
      "102\n"
     ]
    }
   ],
   "source": [
    "driver = webdriver.Firefox(options=options)\n",
    "\n",
    "sleepTimes = [2.1, 2.8, 3.2]\n",
    "\n",
    "info_text2 = []\n",
    "for link in other_links:\n",
    "    clear_output(wait=True)\n",
    "    driver.get(\"https://www.victoriassecret.com\" + link)\n",
    "    try:\n",
    "        element = WebDriverWait(driver, 10).until(EC.presence_of_element_located((By.ID, \"fabric-collapsible-info-component-body-fabrication-info-collapsible-info\")))\n",
    "    except:\n",
    "        print(\"error\")\n",
    "    soup = BeautifulSoup(driver.page_source,'html.parser')\n",
    "\n",
    "    lis = soup.select('#fabric-collapsible-info-component-body-fabrication-info-collapsible-info > span > ul > li')\n",
    "    for li in lis:\n",
    "        info_text2.append(li.text)\n",
    "\n",
    "    print(\"Current progress:\", round( ( (other_links.index(link) + 1) / len(other_links) )*100, 2 ), \"%\")\n",
    "    sleep(random.choice(sleepTimes))\n",
    "    \n",
    "driver.quit()\n",
    "print(len(info_text2))"
   ]
  },
  {
   "cell_type": "code",
   "execution_count": 91,
   "metadata": {},
   "outputs": [],
   "source": [
    "info_text.extend(info_text2)"
   ]
  },
  {
   "cell_type": "code",
   "execution_count": 96,
   "metadata": {},
   "outputs": [],
   "source": [
    "import pandas as pd\n",
    "\n",
    "materials_pink = pd.Series(info_text)\n",
    "materials_pink.to_csv(\"materials_pink.csv\")"
   ]
  },
  {
   "cell_type": "code",
   "execution_count": null,
   "metadata": {},
   "outputs": [],
   "source": []
  }
 ]
}