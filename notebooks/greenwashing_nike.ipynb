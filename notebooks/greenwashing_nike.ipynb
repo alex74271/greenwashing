{
 "cells": [
  {
   "cell_type": "markdown",
   "metadata": {},
   "source": [
    "### Retrieve product links"
   ]
  },
  {
   "cell_type": "code",
   "execution_count": 39,
   "metadata": {},
   "outputs": [
    {
     "name": "stdout",
     "output_type": "stream",
     "text": [
      "at bottom\n"
     ]
    },
    {
     "data": {
      "text/plain": [
       "243"
      ]
     },
     "execution_count": 39,
     "metadata": {},
     "output_type": "execute_result"
    }
   ],
   "source": [
    "from selenium import webdriver\n",
    "from time import sleep\n",
    "import random\n",
    "import pandas as pd\n",
    "\n",
    "sleepTimes = [2.1, 2.8, 3.2]\n",
    "\n",
    "url = \"https://www.nike.com/w/mens-sustainable-materials-clothing-3ngp4z6ymx6znik1\"\n",
    "driver = webdriver.Firefox()\n",
    "\n",
    "driver.get(url)\n",
    "\n",
    "last_height = driver.execute_script(\"return document.body.scrollHeight\")\n",
    "while True:\n",
    "    driver.execute_script(\"window.scrollTo(0, document.body.scrollHeight);\")\n",
    "    sleep(4)\n",
    "    new_height = driver.execute_script(\"return document.body.scrollHeight\")\n",
    "    if new_height == last_height:\n",
    "        break\n",
    "    last_height = new_height\n",
    "        \n",
    "print(\"at bottom\")\n",
    "\n",
    "links = []\n",
    "for card in driver.find_elements_by_class_name(\"product-card\"):\n",
    "    link = card.find_element_by_xpath('.//div/figure/a').get_attribute(\"href\")\n",
    "    links.append(link)\n",
    "\n",
    "len(links)"
   ]
  },
  {
   "cell_type": "markdown",
   "metadata": {},
   "source": [
    "243 items"
   ]
  },
  {
   "cell_type": "markdown",
   "metadata": {},
   "source": [
    "### Get materials"
   ]
  },
  {
   "cell_type": "code",
   "execution_count": 40,
   "metadata": {},
   "outputs": [
    {
     "data": {
      "text/plain": [
       "244"
      ]
     },
     "execution_count": 40,
     "metadata": {},
     "output_type": "execute_result"
    }
   ],
   "source": [
    "info_text_men = []\n",
    "for link in links:\n",
    "    driver.get(link)\n",
    "    try:\n",
    "        driver.find_element_by_css_selector('.pre-modal-btn-close.bg-transparent').click()\n",
    "        sleep(1)\n",
    "    except:\n",
    "        pass\n",
    "    driver.find_element_by_css_selector('button.ncss-cta-primary-dark:nth-child(2)').click()\n",
    "    for li in driver.find_elements_by_xpath('//*[text()=\"Product Details\"]/parent::p/following-sibling::ul[1]/li'):\n",
    "        if \"%\" in li.text:\n",
    "            info_text_men.append(li.text)\n",
    "        else:\n",
    "            continue\n",
    "    sleep(random.choice(sleepTimes))\n",
    "\n",
    "len(info_text_men)"
   ]
  },
  {
   "cell_type": "markdown",
   "metadata": {},
   "source": [
    "### save"
   ]
  },
  {
   "cell_type": "code",
   "execution_count": 42,
   "metadata": {},
   "outputs": [],
   "source": [
    "materials_nike_men = pd.Series(info_text_men)\n",
    "materials_nike_men.to_csv(\"materials_nike_men\")"
   ]
  },
  {
   "cell_type": "markdown",
   "metadata": {},
   "source": [
    "## Repeat Women"
   ]
  },
  {
   "cell_type": "code",
   "execution_count": 43,
   "metadata": {},
   "outputs": [
    {
     "name": "stdout",
     "output_type": "stream",
     "text": [
      "at bottom\n"
     ]
    },
    {
     "data": {
      "text/plain": [
       "72"
      ]
     },
     "execution_count": 43,
     "metadata": {},
     "output_type": "execute_result"
    }
   ],
   "source": [
    "url = \"https://www.nike.com/w/womens-sustainable-materials-clothing-3ngp4z5e1x6z6ymx6\"\n",
    "\n",
    "driver.get(url)\n",
    "\n",
    "last_height = driver.execute_script(\"return document.body.scrollHeight\")\n",
    "while True:\n",
    "    driver.execute_script(\"window.scrollTo(0, document.body.scrollHeight);\")\n",
    "    sleep(4)\n",
    "    new_height = driver.execute_script(\"return document.body.scrollHeight\")\n",
    "    if new_height == last_height:\n",
    "        break\n",
    "    last_height = new_height\n",
    "        \n",
    "print(\"at bottom\")\n",
    "\n",
    "links = []\n",
    "for card in driver.find_elements_by_class_name(\"product-card\"):\n",
    "    link = card.find_element_by_xpath('.//div/figure/a').get_attribute(\"href\")\n",
    "    links.append(link)\n",
    "\n",
    "len(links)"
   ]
  },
  {
   "cell_type": "markdown",
   "metadata": {},
   "source": [
    "72 items"
   ]
  },
  {
   "cell_type": "code",
   "execution_count": 46,
   "metadata": {},
   "outputs": [
    {
     "data": {
      "text/plain": [
       "72"
      ]
     },
     "execution_count": 46,
     "metadata": {},
     "output_type": "execute_result"
    }
   ],
   "source": [
    "info_text_women = []\n",
    "for link in links:\n",
    "    driver.get(link)\n",
    "    try:\n",
    "        driver.find_element_by_css_selector('.pre-modal-btn-close.bg-transparent').click()\n",
    "        sleep(1)\n",
    "    except:\n",
    "        pass\n",
    "    driver.find_element_by_css_selector('button.ncss-cta-primary-dark:nth-child(2)').click()\n",
    "    for li in driver.find_elements_by_xpath('//*[text()=\"Product Details\"]/parent::p/following-sibling::ul[1]/li'):\n",
    "        if \"%\" in li.text:\n",
    "            info_text_women.append(li.text)\n",
    "        else:\n",
    "            continue\n",
    "    sleep(random.choice(sleepTimes))\n",
    "\n",
    "len(info_text_women)"
   ]
  },
  {
   "cell_type": "code",
   "execution_count": 47,
   "metadata": {},
   "outputs": [],
   "source": [
    "materials_nike_women = pd.Series(info_text_women)\n",
    "materials_nike_women.to_csv(\"materials_nike_women\")"
   ]
  }
 ],
 "metadata": {
  "interpreter": {
   "hash": "34810e3b8abeb1571717c8f8919795229980cb2ee192c7ee2ae46aa006f2e2cf"
  },
  "kernelspec": {
   "display_name": "Python 3.8.5 64-bit ('greenwashing-HaCD2V1s': venv)",
   "name": "python3"
  },
  "language_info": {
   "name": "python",
   "version": ""
  },
  "orig_nbformat": 2
 },
 "nbformat": 4,
 "nbformat_minor": 2
}