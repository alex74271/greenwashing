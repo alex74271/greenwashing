{
 "cells": [
  {
   "cell_type": "markdown",
   "metadata": {},
   "source": [
    "# Greenwashing: Are brands' sustainable clothing lines actually sustainable or just good marketing?"
   ]
  },
  {
   "cell_type": "markdown",
   "metadata": {},
   "source": [
    "## Data Analysis"
   ]
  },
  {
   "cell_type": "markdown",
   "metadata": {},
   "source": [
    "### Import CSVs"
   ]
  },
  {
   "cell_type": "code",
   "execution_count": 1,
   "metadata": {},
   "outputs": [
    {
     "data": {
      "text/html": [
       "<div>\n",
       "<style scoped>\n",
       "    .dataframe tbody tr th:only-of-type {\n",
       "        vertical-align: middle;\n",
       "    }\n",
       "\n",
       "    .dataframe tbody tr th {\n",
       "        vertical-align: top;\n",
       "    }\n",
       "\n",
       "    .dataframe thead th {\n",
       "        text-align: right;\n",
       "    }\n",
       "</style>\n",
       "<table border=\"1\" class=\"dataframe\">\n",
       "  <thead>\n",
       "    <tr style=\"text-align: right;\">\n",
       "      <th></th>\n",
       "      <th>materials</th>\n",
       "      <th>brand</th>\n",
       "    </tr>\n",
       "  </thead>\n",
       "  <tbody>\n",
       "    <tr>\n",
       "      <th>0</th>\n",
       "      <td>100% Organic Cotton</td>\n",
       "      <td>Gap</td>\n",
       "    </tr>\n",
       "    <tr>\n",
       "      <th>1</th>\n",
       "      <td>100% Organic Cotton</td>\n",
       "      <td>Gap</td>\n",
       "    </tr>\n",
       "    <tr>\n",
       "      <th>2</th>\n",
       "      <td>100% Organic Cotton</td>\n",
       "      <td>Gap</td>\n",
       "    </tr>\n",
       "    <tr>\n",
       "      <th>3</th>\n",
       "      <td>100% Organic Cotton</td>\n",
       "      <td>Gap</td>\n",
       "    </tr>\n",
       "    <tr>\n",
       "      <th>4</th>\n",
       "      <td>100% Organic Cotton</td>\n",
       "      <td>Gap</td>\n",
       "    </tr>\n",
       "    <tr>\n",
       "      <th>...</th>\n",
       "      <td>...</td>\n",
       "      <td>...</td>\n",
       "    </tr>\n",
       "    <tr>\n",
       "      <th>741</th>\n",
       "      <td>82% Organic Cotton, 12% Hemp, 6% Recycled Cotton</td>\n",
       "      <td>Gap</td>\n",
       "    </tr>\n",
       "    <tr>\n",
       "      <th>742</th>\n",
       "      <td>82% Organic Cotton, 12% Hemp, 6% Recycled Cotton</td>\n",
       "      <td>Gap</td>\n",
       "    </tr>\n",
       "    <tr>\n",
       "      <th>743</th>\n",
       "      <td>82% Organic Cotton, 12% Hemp, 6% Recycled Cotton</td>\n",
       "      <td>Gap</td>\n",
       "    </tr>\n",
       "    <tr>\n",
       "      <th>744</th>\n",
       "      <td>82% Organic Cotton, 12% Hemp, 6% Recycled Cotton</td>\n",
       "      <td>Gap</td>\n",
       "    </tr>\n",
       "    <tr>\n",
       "      <th>745</th>\n",
       "      <td>82% Organic Cotton, 12% Hemp, 6% Recycled Cotton</td>\n",
       "      <td>Gap</td>\n",
       "    </tr>\n",
       "  </tbody>\n",
       "</table>\n",
       "<p>746 rows × 2 columns</p>\n",
       "</div>"
      ],
      "text/plain": [
       "                                            materials brand\n",
       "0                                 100% Organic Cotton   Gap\n",
       "1                                 100% Organic Cotton   Gap\n",
       "2                                 100% Organic Cotton   Gap\n",
       "3                                 100% Organic Cotton   Gap\n",
       "4                                 100% Organic Cotton   Gap\n",
       "..                                                ...   ...\n",
       "741  82% Organic Cotton, 12% Hemp, 6% Recycled Cotton   Gap\n",
       "742  82% Organic Cotton, 12% Hemp, 6% Recycled Cotton   Gap\n",
       "743  82% Organic Cotton, 12% Hemp, 6% Recycled Cotton   Gap\n",
       "744  82% Organic Cotton, 12% Hemp, 6% Recycled Cotton   Gap\n",
       "745  82% Organic Cotton, 12% Hemp, 6% Recycled Cotton   Gap\n",
       "\n",
       "[746 rows x 2 columns]"
      ]
     },
     "execution_count": 1,
     "metadata": {},
     "output_type": "execute_result"
    }
   ],
   "source": [
    "import pandas as pd\n",
    "\n",
    "gap_files = [\"../csv/materials_gap_men.csv\", \"../csv/materials_gap_women.csv\"]\n",
    "gap = pd.concat((pd.read_csv(file, dtype='string', usecols=[1], names=[\"materials\"], skiprows=1) for file in gap_files), ignore_index=True)\n",
    "gap.name = \"Gap\"\n",
    "gap['brand'] = \"Gap\"\n",
    "gap"
   ]
  },
  {
   "cell_type": "code",
   "execution_count": 2,
   "metadata": {},
   "outputs": [
    {
     "data": {
      "text/plain": [
       "False"
      ]
     },
     "execution_count": 2,
     "metadata": {},
     "output_type": "execute_result"
    }
   ],
   "source": [
    "gap.isnull().values.any()"
   ]
  },
  {
   "cell_type": "code",
   "execution_count": 3,
   "metadata": {},
   "outputs": [
    {
     "data": {
      "text/html": [
       "<div>\n",
       "<style scoped>\n",
       "    .dataframe tbody tr th:only-of-type {\n",
       "        vertical-align: middle;\n",
       "    }\n",
       "\n",
       "    .dataframe tbody tr th {\n",
       "        vertical-align: top;\n",
       "    }\n",
       "\n",
       "    .dataframe thead th {\n",
       "        text-align: right;\n",
       "    }\n",
       "</style>\n",
       "<table border=\"1\" class=\"dataframe\">\n",
       "  <thead>\n",
       "    <tr style=\"text-align: right;\">\n",
       "      <th></th>\n",
       "      <th>materials</th>\n",
       "      <th>brand</th>\n",
       "    </tr>\n",
       "  </thead>\n",
       "  <tbody>\n",
       "    <tr>\n",
       "      <th>0</th>\n",
       "      <td>97% cotton/3% polyester</td>\n",
       "      <td>Nike</td>\n",
       "    </tr>\n",
       "    <tr>\n",
       "      <th>1</th>\n",
       "      <td>Body: 96% nylon/4% spandex. Overlays: 100% nyl...</td>\n",
       "      <td>Nike</td>\n",
       "    </tr>\n",
       "    <tr>\n",
       "      <th>2</th>\n",
       "      <td>72% polyester/18% lyocell/10% spandex</td>\n",
       "      <td>Nike</td>\n",
       "    </tr>\n",
       "    <tr>\n",
       "      <th>3</th>\n",
       "      <td>92% polyester/8% spandex</td>\n",
       "      <td>Nike</td>\n",
       "    </tr>\n",
       "    <tr>\n",
       "      <th>4</th>\n",
       "      <td>Body: 93% polyester/7% spandex. Mesh: 100% pol...</td>\n",
       "      <td>Nike</td>\n",
       "    </tr>\n",
       "    <tr>\n",
       "      <th>...</th>\n",
       "      <td>...</td>\n",
       "      <td>...</td>\n",
       "    </tr>\n",
       "    <tr>\n",
       "      <th>311</th>\n",
       "      <td>100% recycled polyester</td>\n",
       "      <td>Nike</td>\n",
       "    </tr>\n",
       "    <tr>\n",
       "      <th>312</th>\n",
       "      <td>78-83% polyester/17-22% spandex</td>\n",
       "      <td>Nike</td>\n",
       "    </tr>\n",
       "    <tr>\n",
       "      <th>313</th>\n",
       "      <td>Body/lining: 88% polyester/12% spandex. Elasti...</td>\n",
       "      <td>Nike</td>\n",
       "    </tr>\n",
       "    <tr>\n",
       "      <th>314</th>\n",
       "      <td>60% cotton/40% polyester</td>\n",
       "      <td>Nike</td>\n",
       "    </tr>\n",
       "    <tr>\n",
       "      <th>315</th>\n",
       "      <td>60% cotton/40% modal</td>\n",
       "      <td>Nike</td>\n",
       "    </tr>\n",
       "  </tbody>\n",
       "</table>\n",
       "<p>316 rows × 2 columns</p>\n",
       "</div>"
      ],
      "text/plain": [
       "                                             materials brand\n",
       "0                              97% cotton/3% polyester  Nike\n",
       "1    Body: 96% nylon/4% spandex. Overlays: 100% nyl...  Nike\n",
       "2                72% polyester/18% lyocell/10% spandex  Nike\n",
       "3                             92% polyester/8% spandex  Nike\n",
       "4    Body: 93% polyester/7% spandex. Mesh: 100% pol...  Nike\n",
       "..                                                 ...   ...\n",
       "311                            100% recycled polyester  Nike\n",
       "312                    78-83% polyester/17-22% spandex  Nike\n",
       "313  Body/lining: 88% polyester/12% spandex. Elasti...  Nike\n",
       "314                           60% cotton/40% polyester  Nike\n",
       "315                               60% cotton/40% modal  Nike\n",
       "\n",
       "[316 rows x 2 columns]"
      ]
     },
     "execution_count": 3,
     "metadata": {},
     "output_type": "execute_result"
    }
   ],
   "source": [
    "nike_files = [\"../csv/materials_nike_men.csv\", \"../csv/materials_nike_women.csv\"]\n",
    "nike = pd.concat((pd.read_csv(file, dtype='string', usecols=[1], names=[\"materials\"], skiprows=1) for file in nike_files), ignore_index=True)\n",
    "nike.name = \"Nike\"\n",
    "nike['brand'] = \"Nike\"\n",
    "nike"
   ]
  },
  {
   "cell_type": "code",
   "execution_count": 4,
   "metadata": {},
   "outputs": [
    {
     "data": {
      "text/plain": [
       "False"
      ]
     },
     "execution_count": 4,
     "metadata": {},
     "output_type": "execute_result"
    }
   ],
   "source": [
    "nike.isnull().values.any()"
   ]
  },
  {
   "cell_type": "code",
   "execution_count": 5,
   "metadata": {},
   "outputs": [
    {
     "data": {
      "text/html": [
       "<div>\n",
       "<style scoped>\n",
       "    .dataframe tbody tr th:only-of-type {\n",
       "        vertical-align: middle;\n",
       "    }\n",
       "\n",
       "    .dataframe tbody tr th {\n",
       "        vertical-align: top;\n",
       "    }\n",
       "\n",
       "    .dataframe thead th {\n",
       "        text-align: right;\n",
       "    }\n",
       "</style>\n",
       "<table border=\"1\" class=\"dataframe\">\n",
       "  <thead>\n",
       "    <tr style=\"text-align: right;\">\n",
       "      <th></th>\n",
       "      <th>materials</th>\n",
       "      <th>brand</th>\n",
       "    </tr>\n",
       "  </thead>\n",
       "  <tbody>\n",
       "    <tr>\n",
       "      <th>0</th>\n",
       "      <td>45% cotton, 32% recycled polyester, 23% recycl...</td>\n",
       "      <td>Tommy Hilfiger</td>\n",
       "    </tr>\n",
       "    <tr>\n",
       "      <th>1</th>\n",
       "      <td>80% organic cotton, 20% recycled cotton.</td>\n",
       "      <td>Tommy Hilfiger</td>\n",
       "    </tr>\n",
       "    <tr>\n",
       "      <th>2</th>\n",
       "      <td>45% cotton, 32% recycled polyester, 23% recycl...</td>\n",
       "      <td>Tommy Hilfiger</td>\n",
       "    </tr>\n",
       "    <tr>\n",
       "      <th>3</th>\n",
       "      <td>80% organic cotton, 20% recycled cotton.</td>\n",
       "      <td>Tommy Hilfiger</td>\n",
       "    </tr>\n",
       "    <tr>\n",
       "      <th>4</th>\n",
       "      <td>70% organic cotton, 30% recycled cotton.</td>\n",
       "      <td>Tommy Hilfiger</td>\n",
       "    </tr>\n",
       "    <tr>\n",
       "      <th>...</th>\n",
       "      <td>...</td>\n",
       "      <td>...</td>\n",
       "    </tr>\n",
       "    <tr>\n",
       "      <th>378</th>\n",
       "      <td>100% organic cotton.</td>\n",
       "      <td>Tommy Hilfiger</td>\n",
       "    </tr>\n",
       "    <tr>\n",
       "      <th>379</th>\n",
       "      <td>72% recycled polyester, 28% polyester.</td>\n",
       "      <td>Tommy Hilfiger</td>\n",
       "    </tr>\n",
       "    <tr>\n",
       "      <th>380</th>\n",
       "      <td>100% organic cotton.</td>\n",
       "      <td>Tommy Hilfiger</td>\n",
       "    </tr>\n",
       "    <tr>\n",
       "      <th>381</th>\n",
       "      <td>100% organic cotton.</td>\n",
       "      <td>Tommy Hilfiger</td>\n",
       "    </tr>\n",
       "    <tr>\n",
       "      <th>382</th>\n",
       "      <td>100% organic cotton.</td>\n",
       "      <td>Tommy Hilfiger</td>\n",
       "    </tr>\n",
       "  </tbody>\n",
       "</table>\n",
       "<p>383 rows × 2 columns</p>\n",
       "</div>"
      ],
      "text/plain": [
       "                                             materials           brand\n",
       "0    45% cotton, 32% recycled polyester, 23% recycl...  Tommy Hilfiger\n",
       "1             80% organic cotton, 20% recycled cotton.  Tommy Hilfiger\n",
       "2    45% cotton, 32% recycled polyester, 23% recycl...  Tommy Hilfiger\n",
       "3             80% organic cotton, 20% recycled cotton.  Tommy Hilfiger\n",
       "4             70% organic cotton, 30% recycled cotton.  Tommy Hilfiger\n",
       "..                                                 ...             ...\n",
       "378                               100% organic cotton.  Tommy Hilfiger\n",
       "379             72% recycled polyester, 28% polyester.  Tommy Hilfiger\n",
       "380                               100% organic cotton.  Tommy Hilfiger\n",
       "381                               100% organic cotton.  Tommy Hilfiger\n",
       "382                               100% organic cotton.  Tommy Hilfiger\n",
       "\n",
       "[383 rows x 2 columns]"
      ]
     },
     "execution_count": 5,
     "metadata": {},
     "output_type": "execute_result"
    }
   ],
   "source": [
    "tommy = pd.read_csv(\"../csv/materials_tommy.csv\", usecols=[1], dtype='string', names=[\"materials\"], skiprows=1)\n",
    "tommy.name = \"Tommy Hilfiger\"\n",
    "tommy['brand'] = \"Tommy Hilfiger\"\n",
    "tommy"
   ]
  },
  {
   "cell_type": "code",
   "execution_count": 6,
   "metadata": {},
   "outputs": [
    {
     "data": {
      "text/plain": [
       "False"
      ]
     },
     "execution_count": 6,
     "metadata": {},
     "output_type": "execute_result"
    }
   ],
   "source": [
    "tommy.isnull().values.any()"
   ]
  },
  {
   "cell_type": "code",
   "execution_count": 7,
   "metadata": {},
   "outputs": [
    {
     "data": {
      "text/html": [
       "<div>\n",
       "<style scoped>\n",
       "    .dataframe tbody tr th:only-of-type {\n",
       "        vertical-align: middle;\n",
       "    }\n",
       "\n",
       "    .dataframe tbody tr th {\n",
       "        vertical-align: top;\n",
       "    }\n",
       "\n",
       "    .dataframe thead th {\n",
       "        text-align: right;\n",
       "    }\n",
       "</style>\n",
       "<table border=\"1\" class=\"dataframe\">\n",
       "  <thead>\n",
       "    <tr style=\"text-align: right;\">\n",
       "      <th></th>\n",
       "      <th>materials</th>\n",
       "      <th>brand</th>\n",
       "    </tr>\n",
       "  </thead>\n",
       "  <tbody>\n",
       "    <tr>\n",
       "      <th>0</th>\n",
       "      <td>Shell: Cotton 100% Pocket lining: Polyester 65...</td>\n",
       "      <td>H&amp;M</td>\n",
       "    </tr>\n",
       "    <tr>\n",
       "      <th>1</th>\n",
       "      <td>Cotton 100%</td>\n",
       "      <td>H&amp;M</td>\n",
       "    </tr>\n",
       "    <tr>\n",
       "      <th>2</th>\n",
       "      <td>Cotton 100%</td>\n",
       "      <td>H&amp;M</td>\n",
       "    </tr>\n",
       "    <tr>\n",
       "      <th>3</th>\n",
       "      <td>Pocket lining: Polyester 65%, Cotton 35% Shell...</td>\n",
       "      <td>H&amp;M</td>\n",
       "    </tr>\n",
       "    <tr>\n",
       "      <th>4</th>\n",
       "      <td>Shell: Polyamide 100% Lining: Polyester 100%</td>\n",
       "      <td>H&amp;M</td>\n",
       "    </tr>\n",
       "    <tr>\n",
       "      <th>...</th>\n",
       "      <td>...</td>\n",
       "      <td>...</td>\n",
       "    </tr>\n",
       "    <tr>\n",
       "      <th>1014</th>\n",
       "      <td>Metal 100%</td>\n",
       "      <td>H&amp;M</td>\n",
       "    </tr>\n",
       "    <tr>\n",
       "      <th>1015</th>\n",
       "      <td>Metal 100%</td>\n",
       "      <td>H&amp;M</td>\n",
       "    </tr>\n",
       "    <tr>\n",
       "      <th>1016</th>\n",
       "      <td>Metal 100%</td>\n",
       "      <td>H&amp;M</td>\n",
       "    </tr>\n",
       "    <tr>\n",
       "      <th>1017</th>\n",
       "      <td>Lining: Polyester 88%, Elastane 12% Shell: Pol...</td>\n",
       "      <td>H&amp;M</td>\n",
       "    </tr>\n",
       "    <tr>\n",
       "      <th>1018</th>\n",
       "      <td>Polyester 100%</td>\n",
       "      <td>H&amp;M</td>\n",
       "    </tr>\n",
       "  </tbody>\n",
       "</table>\n",
       "<p>1019 rows × 2 columns</p>\n",
       "</div>"
      ],
      "text/plain": [
       "                                              materials brand\n",
       "0     Shell: Cotton 100% Pocket lining: Polyester 65...   H&M\n",
       "1                                           Cotton 100%   H&M\n",
       "2                                           Cotton 100%   H&M\n",
       "3     Pocket lining: Polyester 65%, Cotton 35% Shell...   H&M\n",
       "4          Shell: Polyamide 100% Lining: Polyester 100%   H&M\n",
       "...                                                 ...   ...\n",
       "1014                                         Metal 100%   H&M\n",
       "1015                                         Metal 100%   H&M\n",
       "1016                                         Metal 100%   H&M\n",
       "1017  Lining: Polyester 88%, Elastane 12% Shell: Pol...   H&M\n",
       "1018                                     Polyester 100%   H&M\n",
       "\n",
       "[1019 rows x 2 columns]"
      ]
     },
     "execution_count": 7,
     "metadata": {},
     "output_type": "execute_result"
    }
   ],
   "source": [
    "hm = pd.read_csv(\"../csv/materials_hm.csv\", dtype='string', usecols=[1], names=[\"materials\"], skiprows=1)\n",
    "hm.name = \"H&M\"\n",
    "hm['brand'] = \"H&M\"\n",
    "hm"
   ]
  },
  {
   "cell_type": "code",
   "execution_count": 8,
   "metadata": {},
   "outputs": [
    {
     "data": {
      "text/plain": [
       "True"
      ]
     },
     "execution_count": 8,
     "metadata": {},
     "output_type": "execute_result"
    }
   ],
   "source": [
    "hm.isnull().values.any()"
   ]
  },
  {
   "cell_type": "code",
   "execution_count": 9,
   "metadata": {},
   "outputs": [
    {
     "data": {
      "text/html": [
       "<div>\n",
       "<style scoped>\n",
       "    .dataframe tbody tr th:only-of-type {\n",
       "        vertical-align: middle;\n",
       "    }\n",
       "\n",
       "    .dataframe tbody tr th {\n",
       "        vertical-align: top;\n",
       "    }\n",
       "\n",
       "    .dataframe thead th {\n",
       "        text-align: right;\n",
       "    }\n",
       "</style>\n",
       "<table border=\"1\" class=\"dataframe\">\n",
       "  <thead>\n",
       "    <tr style=\"text-align: right;\">\n",
       "      <th></th>\n",
       "      <th>materials</th>\n",
       "      <th>brand</th>\n",
       "    </tr>\n",
       "  </thead>\n",
       "  <tbody>\n",
       "    <tr>\n",
       "      <th>0</th>\n",
       "      <td>Shell: Cotton 100% Pocket lining: Polyester 65...</td>\n",
       "      <td>H&amp;M</td>\n",
       "    </tr>\n",
       "    <tr>\n",
       "      <th>1</th>\n",
       "      <td>Cotton 100%</td>\n",
       "      <td>H&amp;M</td>\n",
       "    </tr>\n",
       "    <tr>\n",
       "      <th>2</th>\n",
       "      <td>Cotton 100%</td>\n",
       "      <td>H&amp;M</td>\n",
       "    </tr>\n",
       "    <tr>\n",
       "      <th>3</th>\n",
       "      <td>Pocket lining: Polyester 65%, Cotton 35% Shell...</td>\n",
       "      <td>H&amp;M</td>\n",
       "    </tr>\n",
       "    <tr>\n",
       "      <th>4</th>\n",
       "      <td>Shell: Polyamide 100% Lining: Polyester 100%</td>\n",
       "      <td>H&amp;M</td>\n",
       "    </tr>\n",
       "    <tr>\n",
       "      <th>...</th>\n",
       "      <td>...</td>\n",
       "      <td>...</td>\n",
       "    </tr>\n",
       "    <tr>\n",
       "      <th>1014</th>\n",
       "      <td>Metal 100%</td>\n",
       "      <td>H&amp;M</td>\n",
       "    </tr>\n",
       "    <tr>\n",
       "      <th>1015</th>\n",
       "      <td>Metal 100%</td>\n",
       "      <td>H&amp;M</td>\n",
       "    </tr>\n",
       "    <tr>\n",
       "      <th>1016</th>\n",
       "      <td>Metal 100%</td>\n",
       "      <td>H&amp;M</td>\n",
       "    </tr>\n",
       "    <tr>\n",
       "      <th>1017</th>\n",
       "      <td>Lining: Polyester 88%, Elastane 12% Shell: Pol...</td>\n",
       "      <td>H&amp;M</td>\n",
       "    </tr>\n",
       "    <tr>\n",
       "      <th>1018</th>\n",
       "      <td>Polyester 100%</td>\n",
       "      <td>H&amp;M</td>\n",
       "    </tr>\n",
       "  </tbody>\n",
       "</table>\n",
       "<p>1018 rows × 2 columns</p>\n",
       "</div>"
      ],
      "text/plain": [
       "                                              materials brand\n",
       "0     Shell: Cotton 100% Pocket lining: Polyester 65...   H&M\n",
       "1                                           Cotton 100%   H&M\n",
       "2                                           Cotton 100%   H&M\n",
       "3     Pocket lining: Polyester 65%, Cotton 35% Shell...   H&M\n",
       "4          Shell: Polyamide 100% Lining: Polyester 100%   H&M\n",
       "...                                                 ...   ...\n",
       "1014                                         Metal 100%   H&M\n",
       "1015                                         Metal 100%   H&M\n",
       "1016                                         Metal 100%   H&M\n",
       "1017  Lining: Polyester 88%, Elastane 12% Shell: Pol...   H&M\n",
       "1018                                     Polyester 100%   H&M\n",
       "\n",
       "[1018 rows x 2 columns]"
      ]
     },
     "execution_count": 9,
     "metadata": {},
     "output_type": "execute_result"
    }
   ],
   "source": [
    "hm = hm.dropna()\n",
    "hm"
   ]
  },
  {
   "cell_type": "code",
   "execution_count": 10,
   "metadata": {},
   "outputs": [
    {
     "data": {
      "text/html": [
       "<div>\n",
       "<style scoped>\n",
       "    .dataframe tbody tr th:only-of-type {\n",
       "        vertical-align: middle;\n",
       "    }\n",
       "\n",
       "    .dataframe tbody tr th {\n",
       "        vertical-align: top;\n",
       "    }\n",
       "\n",
       "    .dataframe thead th {\n",
       "        text-align: right;\n",
       "    }\n",
       "</style>\n",
       "<table border=\"1\" class=\"dataframe\">\n",
       "  <thead>\n",
       "    <tr style=\"text-align: right;\">\n",
       "      <th></th>\n",
       "      <th>materials</th>\n",
       "      <th>brand</th>\n",
       "    </tr>\n",
       "  </thead>\n",
       "  <tbody>\n",
       "    <tr>\n",
       "      <th>0</th>\n",
       "      <td>100% organic cotton French terry</td>\n",
       "      <td>Adidas</td>\n",
       "    </tr>\n",
       "    <tr>\n",
       "      <th>1</th>\n",
       "      <td>100% organic cotton single jersey</td>\n",
       "      <td>Adidas</td>\n",
       "    </tr>\n",
       "    <tr>\n",
       "      <th>2</th>\n",
       "      <td>100% organic cotton French terry</td>\n",
       "      <td>Adidas</td>\n",
       "    </tr>\n",
       "    <tr>\n",
       "      <th>3</th>\n",
       "      <td>100% organic cotton single jersey</td>\n",
       "      <td>Adidas</td>\n",
       "    </tr>\n",
       "    <tr>\n",
       "      <th>4</th>\n",
       "      <td>100% organic cotton French terry</td>\n",
       "      <td>Adidas</td>\n",
       "    </tr>\n",
       "    <tr>\n",
       "      <th>...</th>\n",
       "      <td>...</td>\n",
       "      <td>...</td>\n",
       "    </tr>\n",
       "    <tr>\n",
       "      <th>2703</th>\n",
       "      <td>100% cotton single jersey</td>\n",
       "      <td>Adidas</td>\n",
       "    </tr>\n",
       "    <tr>\n",
       "      <th>2704</th>\n",
       "      <td>Main: 64% recycled polyester, 36% elastane int...</td>\n",
       "      <td>Adidas</td>\n",
       "    </tr>\n",
       "    <tr>\n",
       "      <th>2705</th>\n",
       "      <td>88% recycled polyester, 12% elastane seamless</td>\n",
       "      <td>Adidas</td>\n",
       "    </tr>\n",
       "    <tr>\n",
       "      <th>2706</th>\n",
       "      <td>Shell: 85% recycled polyester, 15% elastane do...</td>\n",
       "      <td>Adidas</td>\n",
       "    </tr>\n",
       "    <tr>\n",
       "      <th>2707</th>\n",
       "      <td>Shell: 85% recycled polyester, 15% elastane do...</td>\n",
       "      <td>Adidas</td>\n",
       "    </tr>\n",
       "  </tbody>\n",
       "</table>\n",
       "<p>2708 rows × 2 columns</p>\n",
       "</div>"
      ],
      "text/plain": [
       "                                              materials   brand\n",
       "0                      100% organic cotton French terry  Adidas\n",
       "1                     100% organic cotton single jersey  Adidas\n",
       "2                      100% organic cotton French terry  Adidas\n",
       "3                     100% organic cotton single jersey  Adidas\n",
       "4                      100% organic cotton French terry  Adidas\n",
       "...                                                 ...     ...\n",
       "2703                          100% cotton single jersey  Adidas\n",
       "2704  Main: 64% recycled polyester, 36% elastane int...  Adidas\n",
       "2705      88% recycled polyester, 12% elastane seamless  Adidas\n",
       "2706  Shell: 85% recycled polyester, 15% elastane do...  Adidas\n",
       "2707  Shell: 85% recycled polyester, 15% elastane do...  Adidas\n",
       "\n",
       "[2708 rows x 2 columns]"
      ]
     },
     "execution_count": 10,
     "metadata": {},
     "output_type": "execute_result"
    }
   ],
   "source": [
    "adidas = pd.read_csv(\"../csv/materials_adidas.csv\", usecols=[1], dtype='string', names=[\"materials\"], skiprows=1)\n",
    "adidas.name = \"Adidas\"\n",
    "adidas['brand'] = \"Adidas\"\n",
    "adidas"
   ]
  },
  {
   "cell_type": "code",
   "execution_count": 11,
   "metadata": {},
   "outputs": [
    {
     "data": {
      "text/plain": [
       "True"
      ]
     },
     "execution_count": 11,
     "metadata": {},
     "output_type": "execute_result"
    }
   ],
   "source": [
    "adidas.isnull().values.any()"
   ]
  },
  {
   "cell_type": "code",
   "execution_count": 12,
   "metadata": {},
   "outputs": [
    {
     "data": {
      "text/html": [
       "<div>\n",
       "<style scoped>\n",
       "    .dataframe tbody tr th:only-of-type {\n",
       "        vertical-align: middle;\n",
       "    }\n",
       "\n",
       "    .dataframe tbody tr th {\n",
       "        vertical-align: top;\n",
       "    }\n",
       "\n",
       "    .dataframe thead th {\n",
       "        text-align: right;\n",
       "    }\n",
       "</style>\n",
       "<table border=\"1\" class=\"dataframe\">\n",
       "  <thead>\n",
       "    <tr style=\"text-align: right;\">\n",
       "      <th></th>\n",
       "      <th>materials</th>\n",
       "      <th>brand</th>\n",
       "    </tr>\n",
       "  </thead>\n",
       "  <tbody>\n",
       "    <tr>\n",
       "      <th>0</th>\n",
       "      <td>100% organic cotton French terry</td>\n",
       "      <td>Adidas</td>\n",
       "    </tr>\n",
       "    <tr>\n",
       "      <th>1</th>\n",
       "      <td>100% organic cotton single jersey</td>\n",
       "      <td>Adidas</td>\n",
       "    </tr>\n",
       "    <tr>\n",
       "      <th>2</th>\n",
       "      <td>100% organic cotton French terry</td>\n",
       "      <td>Adidas</td>\n",
       "    </tr>\n",
       "    <tr>\n",
       "      <th>3</th>\n",
       "      <td>100% organic cotton single jersey</td>\n",
       "      <td>Adidas</td>\n",
       "    </tr>\n",
       "    <tr>\n",
       "      <th>4</th>\n",
       "      <td>100% organic cotton French terry</td>\n",
       "      <td>Adidas</td>\n",
       "    </tr>\n",
       "    <tr>\n",
       "      <th>...</th>\n",
       "      <td>...</td>\n",
       "      <td>...</td>\n",
       "    </tr>\n",
       "    <tr>\n",
       "      <th>2703</th>\n",
       "      <td>100% cotton single jersey</td>\n",
       "      <td>Adidas</td>\n",
       "    </tr>\n",
       "    <tr>\n",
       "      <th>2704</th>\n",
       "      <td>Main: 64% recycled polyester, 36% elastane int...</td>\n",
       "      <td>Adidas</td>\n",
       "    </tr>\n",
       "    <tr>\n",
       "      <th>2705</th>\n",
       "      <td>88% recycled polyester, 12% elastane seamless</td>\n",
       "      <td>Adidas</td>\n",
       "    </tr>\n",
       "    <tr>\n",
       "      <th>2706</th>\n",
       "      <td>Shell: 85% recycled polyester, 15% elastane do...</td>\n",
       "      <td>Adidas</td>\n",
       "    </tr>\n",
       "    <tr>\n",
       "      <th>2707</th>\n",
       "      <td>Shell: 85% recycled polyester, 15% elastane do...</td>\n",
       "      <td>Adidas</td>\n",
       "    </tr>\n",
       "  </tbody>\n",
       "</table>\n",
       "<p>2686 rows × 2 columns</p>\n",
       "</div>"
      ],
      "text/plain": [
       "                                              materials   brand\n",
       "0                      100% organic cotton French terry  Adidas\n",
       "1                     100% organic cotton single jersey  Adidas\n",
       "2                      100% organic cotton French terry  Adidas\n",
       "3                     100% organic cotton single jersey  Adidas\n",
       "4                      100% organic cotton French terry  Adidas\n",
       "...                                                 ...     ...\n",
       "2703                          100% cotton single jersey  Adidas\n",
       "2704  Main: 64% recycled polyester, 36% elastane int...  Adidas\n",
       "2705      88% recycled polyester, 12% elastane seamless  Adidas\n",
       "2706  Shell: 85% recycled polyester, 15% elastane do...  Adidas\n",
       "2707  Shell: 85% recycled polyester, 15% elastane do...  Adidas\n",
       "\n",
       "[2686 rows x 2 columns]"
      ]
     },
     "execution_count": 12,
     "metadata": {},
     "output_type": "execute_result"
    }
   ],
   "source": [
    "adidas = adidas.dropna()\n",
    "adidas"
   ]
  },
  {
   "cell_type": "markdown",
   "metadata": {},
   "source": [
    "### Transparency"
   ]
  },
  {
   "cell_type": "markdown",
   "metadata": {},
   "source": [
    "To be under Nike \"sustainable materials\" apparel category has to be made with at least 50% recycled content, but many don't even explicity mention \"recycled\" in materials makeup, making it unclear how much of it is actually made from recycled"
   ]
  },
  {
   "cell_type": "code",
   "execution_count": 13,
   "metadata": {},
   "outputs": [
    {
     "data": {
      "text/html": [
       "<div>\n",
       "<style scoped>\n",
       "    .dataframe tbody tr th:only-of-type {\n",
       "        vertical-align: middle;\n",
       "    }\n",
       "\n",
       "    .dataframe tbody tr th {\n",
       "        vertical-align: top;\n",
       "    }\n",
       "\n",
       "    .dataframe thead th {\n",
       "        text-align: right;\n",
       "    }\n",
       "</style>\n",
       "<table border=\"1\" class=\"dataframe\">\n",
       "  <thead>\n",
       "    <tr style=\"text-align: right;\">\n",
       "      <th></th>\n",
       "      <th>materials</th>\n",
       "      <th>brand</th>\n",
       "    </tr>\n",
       "  </thead>\n",
       "  <tbody>\n",
       "    <tr>\n",
       "      <th>14</th>\n",
       "      <td>Heathered colors: Shorts: 100% polyester. Pane...</td>\n",
       "      <td>Nike</td>\n",
       "    </tr>\n",
       "    <tr>\n",
       "      <th>15</th>\n",
       "      <td>Solid colors: Shorts: 100% recycled polyester....</td>\n",
       "      <td>Nike</td>\n",
       "    </tr>\n",
       "    <tr>\n",
       "      <th>25</th>\n",
       "      <td>Body: 64% organic cotton/32% recycled polyeste...</td>\n",
       "      <td>Nike</td>\n",
       "    </tr>\n",
       "    <tr>\n",
       "      <th>28</th>\n",
       "      <td>100% recycled polyester</td>\n",
       "      <td>Nike</td>\n",
       "    </tr>\n",
       "    <tr>\n",
       "      <th>29</th>\n",
       "      <td>100% recycled polyester</td>\n",
       "      <td>Nike</td>\n",
       "    </tr>\n",
       "    <tr>\n",
       "      <th>...</th>\n",
       "      <td>...</td>\n",
       "      <td>...</td>\n",
       "    </tr>\n",
       "    <tr>\n",
       "      <th>298</th>\n",
       "      <td>Body: 83% recycled polyester/17% spandex. Lini...</td>\n",
       "      <td>Nike</td>\n",
       "    </tr>\n",
       "    <tr>\n",
       "      <th>300</th>\n",
       "      <td>88% recycled polyester/12% spandex</td>\n",
       "      <td>Nike</td>\n",
       "    </tr>\n",
       "    <tr>\n",
       "      <th>301</th>\n",
       "      <td>Body: 83% recycled polyester/17% spandex. Mesh...</td>\n",
       "      <td>Nike</td>\n",
       "    </tr>\n",
       "    <tr>\n",
       "      <th>303</th>\n",
       "      <td>Body: 83% recycled polyester/17% spandex. Lini...</td>\n",
       "      <td>Nike</td>\n",
       "    </tr>\n",
       "    <tr>\n",
       "      <th>311</th>\n",
       "      <td>100% recycled polyester</td>\n",
       "      <td>Nike</td>\n",
       "    </tr>\n",
       "  </tbody>\n",
       "</table>\n",
       "<p>84 rows × 2 columns</p>\n",
       "</div>"
      ],
      "text/plain": [
       "                                             materials brand\n",
       "14   Heathered colors: Shorts: 100% polyester. Pane...  Nike\n",
       "15   Solid colors: Shorts: 100% recycled polyester....  Nike\n",
       "25   Body: 64% organic cotton/32% recycled polyeste...  Nike\n",
       "28                             100% recycled polyester  Nike\n",
       "29                             100% recycled polyester  Nike\n",
       "..                                                 ...   ...\n",
       "298  Body: 83% recycled polyester/17% spandex. Lini...  Nike\n",
       "300                 88% recycled polyester/12% spandex  Nike\n",
       "301  Body: 83% recycled polyester/17% spandex. Mesh...  Nike\n",
       "303  Body: 83% recycled polyester/17% spandex. Lini...  Nike\n",
       "311                            100% recycled polyester  Nike\n",
       "\n",
       "[84 rows x 2 columns]"
      ]
     },
     "execution_count": 13,
     "metadata": {},
     "output_type": "execute_result"
    }
   ],
   "source": [
    "import re\n",
    "\n",
    "nike[nike.materials.str.contains(\"recycled\", case=False)]"
   ]
  },
  {
   "cell_type": "code",
   "execution_count": 14,
   "metadata": {},
   "outputs": [
    {
     "data": {
      "text/plain": [
       "632"
      ]
     },
     "execution_count": 14,
     "metadata": {},
     "output_type": "execute_result"
    }
   ],
   "source": [
    "nike.size"
   ]
  },
  {
   "cell_type": "code",
   "execution_count": 15,
   "metadata": {},
   "outputs": [
    {
     "data": {
      "text/plain": [
       "232"
      ]
     },
     "execution_count": 15,
     "metadata": {},
     "output_type": "execute_result"
    }
   ],
   "source": [
    "316-84"
   ]
  },
  {
   "cell_type": "code",
   "execution_count": 16,
   "metadata": {},
   "outputs": [
    {
     "data": {
      "text/plain": [
       "73.41772151898735"
      ]
     },
     "execution_count": 16,
     "metadata": {},
     "output_type": "execute_result"
    }
   ],
   "source": [
    "(232/316) * 100"
   ]
  },
  {
   "cell_type": "markdown",
   "metadata": {},
   "source": [
    "232/316 Nike products don't mention \"recycled\", don't know % that's recyclced\n"
   ]
  },
  {
   "cell_type": "markdown",
   "metadata": {},
   "source": [
    "H&M: \"Our Conscious products are created with a little extra consideration for the planet: at least 50% of each piece is made from more sustainable materials, like organic cotton or recycled polyester. The only exception is recycled cotton, which for quality reasons, can only make up 20% of a product.\""
   ]
  },
  {
   "cell_type": "code",
   "execution_count": 17,
   "metadata": {},
   "outputs": [
    {
     "name": "stdout",
     "output_type": "stream",
     "text": [
      "<class 'pandas.core.frame.DataFrame'>\n",
      "Int64Index: 0 entries\n",
      "Data columns (total 2 columns):\n",
      " #   Column     Non-Null Count  Dtype \n",
      "---  ------     --------------  ----- \n",
      " 0   materials  0 non-null      string\n",
      " 1   brand      0 non-null      object\n",
      "dtypes: object(1), string(1)\n",
      "memory usage: 0.0+ bytes\n"
     ]
    }
   ],
   "source": [
    "hm[hm.materials.str.contains(\"recycled\", case=False)].info()"
   ]
  },
  {
   "cell_type": "code",
   "execution_count": 18,
   "metadata": {},
   "outputs": [
    {
     "name": "stdout",
     "output_type": "stream",
     "text": [
      "<class 'pandas.core.frame.DataFrame'>\n",
      "Int64Index: 0 entries\n",
      "Data columns (total 2 columns):\n",
      " #   Column     Non-Null Count  Dtype \n",
      "---  ------     --------------  ----- \n",
      " 0   materials  0 non-null      string\n",
      " 1   brand      0 non-null      object\n",
      "dtypes: object(1), string(1)\n",
      "memory usage: 0.0+ bytes\n"
     ]
    }
   ],
   "source": [
    "hm[hm.materials.str.contains(\"organic\", case=False)].info()"
   ]
  },
  {
   "cell_type": "markdown",
   "metadata": {},
   "source": [
    "NONE explicity mention what % is made from recycled or organic materials"
   ]
  },
  {
   "cell_type": "markdown",
   "metadata": {},
   "source": [
    "### Circular"
   ]
  },
  {
   "cell_type": "markdown",
   "metadata": {},
   "source": [
    "Tommy and Adidas place emphasis on being a \"circular\" brand - but recycling is not infinite, how many made w/ recycled materials (explicitly mention \"recycled\"), how many with recycled are blended - thus making it practically impossible to recycled again.\n",
    "**from all items, find how many mention recycled, how many 100% recycled, how many blended.**\n",
    "the focus for these lines is usually on clothing from recycled materials - will esp mention non-virgin plastic / PET bottles. **how many recycled polyester**"
   ]
  },
  {
   "cell_type": "code",
   "execution_count": 19,
   "metadata": {},
   "outputs": [
    {
     "data": {
      "text/html": [
       "<div>\n",
       "<style scoped>\n",
       "    .dataframe tbody tr th:only-of-type {\n",
       "        vertical-align: middle;\n",
       "    }\n",
       "\n",
       "    .dataframe tbody tr th {\n",
       "        vertical-align: top;\n",
       "    }\n",
       "\n",
       "    .dataframe thead th {\n",
       "        text-align: right;\n",
       "    }\n",
       "</style>\n",
       "<table border=\"1\" class=\"dataframe\">\n",
       "  <thead>\n",
       "    <tr style=\"text-align: right;\">\n",
       "      <th></th>\n",
       "      <th>materials</th>\n",
       "      <th>brand</th>\n",
       "    </tr>\n",
       "  </thead>\n",
       "  <tbody>\n",
       "    <tr>\n",
       "      <th>0</th>\n",
       "      <td>100% organic cotton French terry</td>\n",
       "      <td>Adidas</td>\n",
       "    </tr>\n",
       "    <tr>\n",
       "      <th>1</th>\n",
       "      <td>100% organic cotton single jersey</td>\n",
       "      <td>Adidas</td>\n",
       "    </tr>\n",
       "    <tr>\n",
       "      <th>2</th>\n",
       "      <td>100% organic cotton French terry</td>\n",
       "      <td>Adidas</td>\n",
       "    </tr>\n",
       "    <tr>\n",
       "      <th>3</th>\n",
       "      <td>100% organic cotton single jersey</td>\n",
       "      <td>Adidas</td>\n",
       "    </tr>\n",
       "    <tr>\n",
       "      <th>4</th>\n",
       "      <td>100% organic cotton French terry</td>\n",
       "      <td>Adidas</td>\n",
       "    </tr>\n",
       "    <tr>\n",
       "      <th>...</th>\n",
       "      <td>...</td>\n",
       "      <td>...</td>\n",
       "    </tr>\n",
       "    <tr>\n",
       "      <th>5144</th>\n",
       "      <td>100% organic cotton.</td>\n",
       "      <td>Tommy Hilfiger</td>\n",
       "    </tr>\n",
       "    <tr>\n",
       "      <th>5145</th>\n",
       "      <td>72% recycled polyester, 28% polyester.</td>\n",
       "      <td>Tommy Hilfiger</td>\n",
       "    </tr>\n",
       "    <tr>\n",
       "      <th>5146</th>\n",
       "      <td>100% organic cotton.</td>\n",
       "      <td>Tommy Hilfiger</td>\n",
       "    </tr>\n",
       "    <tr>\n",
       "      <th>5147</th>\n",
       "      <td>100% organic cotton.</td>\n",
       "      <td>Tommy Hilfiger</td>\n",
       "    </tr>\n",
       "    <tr>\n",
       "      <th>5148</th>\n",
       "      <td>100% organic cotton.</td>\n",
       "      <td>Tommy Hilfiger</td>\n",
       "    </tr>\n",
       "  </tbody>\n",
       "</table>\n",
       "<p>5149 rows × 2 columns</p>\n",
       "</div>"
      ],
      "text/plain": [
       "                                   materials           brand\n",
       "0           100% organic cotton French terry          Adidas\n",
       "1          100% organic cotton single jersey          Adidas\n",
       "2           100% organic cotton French terry          Adidas\n",
       "3          100% organic cotton single jersey          Adidas\n",
       "4           100% organic cotton French terry          Adidas\n",
       "...                                      ...             ...\n",
       "5144                    100% organic cotton.  Tommy Hilfiger\n",
       "5145  72% recycled polyester, 28% polyester.  Tommy Hilfiger\n",
       "5146                    100% organic cotton.  Tommy Hilfiger\n",
       "5147                    100% organic cotton.  Tommy Hilfiger\n",
       "5148                    100% organic cotton.  Tommy Hilfiger\n",
       "\n",
       "[5149 rows x 2 columns]"
      ]
     },
     "execution_count": 19,
     "metadata": {},
     "output_type": "execute_result"
    }
   ],
   "source": [
    "dfs = [adidas, gap, hm, nike, tommy]\n",
    "combined = pd.concat(dfs).reset_index(drop=True)\n",
    "combined"
   ]
  },
  {
   "cell_type": "code",
   "execution_count": 53,
   "metadata": {},
   "outputs": [
    {
     "data": {
      "image/png": "[encoded data removed]",
      "text/plain": [
       "<Figure size 360x360 with 1 Axes>"
      ]
     },
     "metadata": {
      "needs_background": "light"
     },
     "output_type": "display_data"
    }
   ],
   "source": [
    "import seaborn as sns\n",
    "import matplotlib.pyplot as plt\n",
    "\n",
    "sns.set_palette(palette='BuGn_r')\n",
    "sns.set_context(context='notebook')\n",
    "sns.catplot(x='brand', kind=\"count\", order=combined['brand'].value_counts().index, data=combined).set(title=\"Number of \\\"Sustainable\\\" Items Per Brand\")\n",
    "plt.savefig('../figures/itemcount.png', bbox_inches='tight')"
   ]
  },
  {
   "cell_type": "code",
   "execution_count": 21,
   "metadata": {},
   "outputs": [
    {
     "data": {
      "text/html": [
       "<div>\n",
       "<style scoped>\n",
       "    .dataframe tbody tr th:only-of-type {\n",
       "        vertical-align: middle;\n",
       "    }\n",
       "\n",
       "    .dataframe tbody tr th {\n",
       "        vertical-align: top;\n",
       "    }\n",
       "\n",
       "    .dataframe thead th {\n",
       "        text-align: right;\n",
       "    }\n",
       "</style>\n",
       "<table border=\"1\" class=\"dataframe\">\n",
       "  <thead>\n",
       "    <tr style=\"text-align: right;\">\n",
       "      <th></th>\n",
       "      <th>materials</th>\n",
       "      <th>brand</th>\n",
       "    </tr>\n",
       "  </thead>\n",
       "  <tbody>\n",
       "    <tr>\n",
       "      <th>8</th>\n",
       "      <td>53% recycled polyester, 25% cotton, 17% polyes...</td>\n",
       "      <td>Adidas</td>\n",
       "    </tr>\n",
       "    <tr>\n",
       "      <th>9</th>\n",
       "      <td>53% recycled polyester, 25% cotton, 17% polyes...</td>\n",
       "      <td>Adidas</td>\n",
       "    </tr>\n",
       "    <tr>\n",
       "      <th>10</th>\n",
       "      <td>65% recycled polyester, 32% polyester, 3% elas...</td>\n",
       "      <td>Adidas</td>\n",
       "    </tr>\n",
       "    <tr>\n",
       "      <th>11</th>\n",
       "      <td>65% recycled polyester, 32% polyester, 3% elas...</td>\n",
       "      <td>Adidas</td>\n",
       "    </tr>\n",
       "    <tr>\n",
       "      <th>12</th>\n",
       "      <td>52% recycled polyester, 48% cotton single jersey</td>\n",
       "      <td>Adidas</td>\n",
       "    </tr>\n",
       "    <tr>\n",
       "      <th>...</th>\n",
       "      <td>...</td>\n",
       "      <td>...</td>\n",
       "    </tr>\n",
       "    <tr>\n",
       "      <th>5129</th>\n",
       "      <td>66% cotton, 20% recycled cotton, 6% elastomult...</td>\n",
       "      <td>Tommy Hilfiger</td>\n",
       "    </tr>\n",
       "    <tr>\n",
       "      <th>5132</th>\n",
       "      <td>85% recycled polyester, 15% elastane.</td>\n",
       "      <td>Tommy Hilfiger</td>\n",
       "    </tr>\n",
       "    <tr>\n",
       "      <th>5135</th>\n",
       "      <td>55% recycled polyester, 45% wool.</td>\n",
       "      <td>Tommy Hilfiger</td>\n",
       "    </tr>\n",
       "    <tr>\n",
       "      <th>5143</th>\n",
       "      <td>78% recycled polyester, 22% elastane.</td>\n",
       "      <td>Tommy Hilfiger</td>\n",
       "    </tr>\n",
       "    <tr>\n",
       "      <th>5145</th>\n",
       "      <td>72% recycled polyester, 28% polyester.</td>\n",
       "      <td>Tommy Hilfiger</td>\n",
       "    </tr>\n",
       "  </tbody>\n",
       "</table>\n",
       "<p>2200 rows × 2 columns</p>\n",
       "</div>"
      ],
      "text/plain": [
       "                                              materials           brand\n",
       "8     53% recycled polyester, 25% cotton, 17% polyes...          Adidas\n",
       "9     53% recycled polyester, 25% cotton, 17% polyes...          Adidas\n",
       "10    65% recycled polyester, 32% polyester, 3% elas...          Adidas\n",
       "11    65% recycled polyester, 32% polyester, 3% elas...          Adidas\n",
       "12     52% recycled polyester, 48% cotton single jersey          Adidas\n",
       "...                                                 ...             ...\n",
       "5129  66% cotton, 20% recycled cotton, 6% elastomult...  Tommy Hilfiger\n",
       "5132              85% recycled polyester, 15% elastane.  Tommy Hilfiger\n",
       "5135                  55% recycled polyester, 45% wool.  Tommy Hilfiger\n",
       "5143              78% recycled polyester, 22% elastane.  Tommy Hilfiger\n",
       "5145             72% recycled polyester, 28% polyester.  Tommy Hilfiger\n",
       "\n",
       "[2200 rows x 2 columns]"
      ]
     },
     "execution_count": 21,
     "metadata": {},
     "output_type": "execute_result"
    }
   ],
   "source": [
    "combined[combined.materials.str.contains(\"recycled\")]"
   ]
  },
  {
   "cell_type": "code",
   "execution_count": 22,
   "metadata": {},
   "outputs": [
    {
     "data": {
      "text/plain": [
       "3"
      ]
     },
     "execution_count": 22,
     "metadata": {},
     "output_type": "execute_result"
    }
   ],
   "source": [
    "combined.materials.str.findall(r'(\\d?\\d\\d)% recycled').str.len().max()"
   ]
  },
  {
   "cell_type": "markdown",
   "metadata": {},
   "source": [
    "Maximum 3 percentages per line, so concat the three possible series from each index number to get a single percentage per line"
   ]
  },
  {
   "cell_type": "code",
   "execution_count": 23,
   "metadata": {},
   "outputs": [
    {
     "data": {
      "text/plain": [
       "0        53% recycled polyester\n",
       "1        53% recycled polyester\n",
       "2        65% recycled polyester\n",
       "3        65% recycled polyester\n",
       "4        52% recycled polyester\n",
       "                 ...           \n",
       "2357     65% recycled polyester\n",
       "2358     64% recycled polyester\n",
       "2359    100% recycled polyester\n",
       "2360     32% recycled polyester\n",
       "2361     83% recycled polyester\n",
       "Name: materials, Length: 2362, dtype: object"
      ]
     },
     "execution_count": 23,
     "metadata": {},
     "output_type": "execute_result"
    }
   ],
   "source": [
    "recycled_percentages = pd.concat([combined.materials.str.findall(r'\\d?\\d\\d% recycled \\w+').str[-1], combined.materials.str.findall(r'\\d?\\d\\d% recycled \\w+').str[-2], combined.materials.str.findall(r'\\d?\\d\\d% recycled \\w+').str[-3]]).dropna().reset_index(drop=True)\n",
    "recycled_percentages"
   ]
  },
  {
   "cell_type": "markdown",
   "metadata": {},
   "source": [
    "dataframe column for each material to get average % recycled per material"
   ]
  },
  {
   "cell_type": "code",
   "execution_count": 24,
   "metadata": {},
   "outputs": [
    {
     "data": {
      "text/plain": [
       "recycled polyester    2153\n",
       "recycled cotton        105\n",
       "recycled nylon          67\n",
       "recycled content        32\n",
       "recycled leather         3\n",
       "recycled elastane        2\n",
       "Name: materials, dtype: int64"
      ]
     },
     "execution_count": 24,
     "metadata": {},
     "output_type": "execute_result"
    }
   ],
   "source": [
    "recycled_percentages.str.findall(r'recycled \\w+').str[-1].value_counts()"
   ]
  },
  {
   "cell_type": "code",
   "execution_count": 25,
   "metadata": {},
   "outputs": [
    {
     "data": {
      "text/plain": [
       "Int64Index([ 204,  302,  558,  798,  965, 1195, 1202, 1234, 1241, 1281, 1355,\n",
       "            1723, 1800, 1863, 1942, 1969, 2068, 2156, 2206, 2270, 2370, 2415,\n",
       "            2532, 2535, 2539, 2548, 2554, 2558, 2559, 2568, 2588, 2636],\n",
       "           dtype='int64')"
      ]
     },
     "execution_count": 25,
     "metadata": {},
     "output_type": "execute_result"
    }
   ],
   "source": [
    "combined[combined.materials.str.contains(r'recycled content')].index"
   ]
  },
  {
   "cell_type": "code",
   "execution_count": 26,
   "metadata": {},
   "outputs": [
    {
     "data": {
      "text/plain": [
       "'60% cotton, 40% recycled polyester doubleknit This garment is made with Primegreen, a series of high-performance recycled materials. Garments made with Primegreen use a minimum of 40% recycled content.'"
      ]
     },
     "execution_count": 26,
     "metadata": {},
     "output_type": "execute_result"
    }
   ],
   "source": [
    "combined.materials[204]"
   ]
  },
  {
   "cell_type": "markdown",
   "metadata": {},
   "source": [
    "don't include \"recycled content\" as material type"
   ]
  },
  {
   "cell_type": "code",
   "execution_count": 27,
   "metadata": {},
   "outputs": [
    {
     "data": {
      "text/html": [
       "<div>\n",
       "<style scoped>\n",
       "    .dataframe tbody tr th:only-of-type {\n",
       "        vertical-align: middle;\n",
       "    }\n",
       "\n",
       "    .dataframe tbody tr th {\n",
       "        vertical-align: top;\n",
       "    }\n",
       "\n",
       "    .dataframe thead th {\n",
       "        text-align: right;\n",
       "    }\n",
       "</style>\n",
       "<table border=\"1\" class=\"dataframe\">\n",
       "  <thead>\n",
       "    <tr style=\"text-align: right;\">\n",
       "      <th></th>\n",
       "      <th>string</th>\n",
       "      <th>percentage</th>\n",
       "      <th>material</th>\n",
       "    </tr>\n",
       "  </thead>\n",
       "  <tbody>\n",
       "    <tr>\n",
       "      <th>0</th>\n",
       "      <td>53% recycled polyester</td>\n",
       "      <td>53</td>\n",
       "      <td>polyester</td>\n",
       "    </tr>\n",
       "    <tr>\n",
       "      <th>1</th>\n",
       "      <td>53% recycled polyester</td>\n",
       "      <td>53</td>\n",
       "      <td>polyester</td>\n",
       "    </tr>\n",
       "    <tr>\n",
       "      <th>2</th>\n",
       "      <td>65% recycled polyester</td>\n",
       "      <td>65</td>\n",
       "      <td>polyester</td>\n",
       "    </tr>\n",
       "    <tr>\n",
       "      <th>3</th>\n",
       "      <td>65% recycled polyester</td>\n",
       "      <td>65</td>\n",
       "      <td>polyester</td>\n",
       "    </tr>\n",
       "    <tr>\n",
       "      <th>4</th>\n",
       "      <td>52% recycled polyester</td>\n",
       "      <td>52</td>\n",
       "      <td>polyester</td>\n",
       "    </tr>\n",
       "    <tr>\n",
       "      <th>...</th>\n",
       "      <td>...</td>\n",
       "      <td>...</td>\n",
       "      <td>...</td>\n",
       "    </tr>\n",
       "    <tr>\n",
       "      <th>2357</th>\n",
       "      <td>65% recycled polyester</td>\n",
       "      <td>65</td>\n",
       "      <td>polyester</td>\n",
       "    </tr>\n",
       "    <tr>\n",
       "      <th>2358</th>\n",
       "      <td>64% recycled polyester</td>\n",
       "      <td>64</td>\n",
       "      <td>polyester</td>\n",
       "    </tr>\n",
       "    <tr>\n",
       "      <th>2359</th>\n",
       "      <td>100% recycled polyester</td>\n",
       "      <td>100</td>\n",
       "      <td>polyester</td>\n",
       "    </tr>\n",
       "    <tr>\n",
       "      <th>2360</th>\n",
       "      <td>32% recycled polyester</td>\n",
       "      <td>32</td>\n",
       "      <td>polyester</td>\n",
       "    </tr>\n",
       "    <tr>\n",
       "      <th>2361</th>\n",
       "      <td>83% recycled polyester</td>\n",
       "      <td>83</td>\n",
       "      <td>polyester</td>\n",
       "    </tr>\n",
       "  </tbody>\n",
       "</table>\n",
       "<p>2362 rows × 3 columns</p>\n",
       "</div>"
      ],
      "text/plain": [
       "                       string percentage   material\n",
       "0      53% recycled polyester         53  polyester\n",
       "1      53% recycled polyester         53  polyester\n",
       "2      65% recycled polyester         65  polyester\n",
       "3      65% recycled polyester         65  polyester\n",
       "4      52% recycled polyester         52  polyester\n",
       "...                       ...        ...        ...\n",
       "2357   65% recycled polyester         65  polyester\n",
       "2358   64% recycled polyester         64  polyester\n",
       "2359  100% recycled polyester        100  polyester\n",
       "2360   32% recycled polyester         32  polyester\n",
       "2361   83% recycled polyester         83  polyester\n",
       "\n",
       "[2362 rows x 3 columns]"
      ]
     },
     "execution_count": 27,
     "metadata": {},
     "output_type": "execute_result"
    }
   ],
   "source": [
    "recycled_percentages = recycled_percentages.to_frame()\n",
    "recycled_percentages.columns = [\"string\"]\n",
    "recycled_percentages[\"percentage\"] = recycled_percentages[\"string\"].str.extract(r\"(\\d?\\d\\d)%\", expand=False)\n",
    "recycled_percentages[\"material\"] = recycled_percentages[\"string\"].str.extract(r\"recycled (\\w+)\", expand=False)\n",
    "recycled_percentages"
   ]
  },
  {
   "cell_type": "code",
   "execution_count": 28,
   "metadata": {},
   "outputs": [
    {
     "data": {
      "text/html": [
       "<div>\n",
       "<style scoped>\n",
       "    .dataframe tbody tr th:only-of-type {\n",
       "        vertical-align: middle;\n",
       "    }\n",
       "\n",
       "    .dataframe tbody tr th {\n",
       "        vertical-align: top;\n",
       "    }\n",
       "\n",
       "    .dataframe thead th {\n",
       "        text-align: right;\n",
       "    }\n",
       "</style>\n",
       "<table border=\"1\" class=\"dataframe\">\n",
       "  <thead>\n",
       "    <tr style=\"text-align: right;\">\n",
       "      <th></th>\n",
       "      <th>string</th>\n",
       "      <th>percentage</th>\n",
       "      <th>material</th>\n",
       "    </tr>\n",
       "  </thead>\n",
       "  <tbody>\n",
       "    <tr>\n",
       "      <th>0</th>\n",
       "      <td>53% recycled polyester</td>\n",
       "      <td>53</td>\n",
       "      <td>polyester</td>\n",
       "    </tr>\n",
       "    <tr>\n",
       "      <th>1</th>\n",
       "      <td>53% recycled polyester</td>\n",
       "      <td>53</td>\n",
       "      <td>polyester</td>\n",
       "    </tr>\n",
       "    <tr>\n",
       "      <th>2</th>\n",
       "      <td>65% recycled polyester</td>\n",
       "      <td>65</td>\n",
       "      <td>polyester</td>\n",
       "    </tr>\n",
       "    <tr>\n",
       "      <th>3</th>\n",
       "      <td>65% recycled polyester</td>\n",
       "      <td>65</td>\n",
       "      <td>polyester</td>\n",
       "    </tr>\n",
       "    <tr>\n",
       "      <th>4</th>\n",
       "      <td>52% recycled polyester</td>\n",
       "      <td>52</td>\n",
       "      <td>polyester</td>\n",
       "    </tr>\n",
       "    <tr>\n",
       "      <th>...</th>\n",
       "      <td>...</td>\n",
       "      <td>...</td>\n",
       "      <td>...</td>\n",
       "    </tr>\n",
       "    <tr>\n",
       "      <th>2357</th>\n",
       "      <td>65% recycled polyester</td>\n",
       "      <td>65</td>\n",
       "      <td>polyester</td>\n",
       "    </tr>\n",
       "    <tr>\n",
       "      <th>2358</th>\n",
       "      <td>64% recycled polyester</td>\n",
       "      <td>64</td>\n",
       "      <td>polyester</td>\n",
       "    </tr>\n",
       "    <tr>\n",
       "      <th>2359</th>\n",
       "      <td>100% recycled polyester</td>\n",
       "      <td>100</td>\n",
       "      <td>polyester</td>\n",
       "    </tr>\n",
       "    <tr>\n",
       "      <th>2360</th>\n",
       "      <td>32% recycled polyester</td>\n",
       "      <td>32</td>\n",
       "      <td>polyester</td>\n",
       "    </tr>\n",
       "    <tr>\n",
       "      <th>2361</th>\n",
       "      <td>83% recycled polyester</td>\n",
       "      <td>83</td>\n",
       "      <td>polyester</td>\n",
       "    </tr>\n",
       "  </tbody>\n",
       "</table>\n",
       "<p>2330 rows × 3 columns</p>\n",
       "</div>"
      ],
      "text/plain": [
       "                       string percentage   material\n",
       "0      53% recycled polyester         53  polyester\n",
       "1      53% recycled polyester         53  polyester\n",
       "2      65% recycled polyester         65  polyester\n",
       "3      65% recycled polyester         65  polyester\n",
       "4      52% recycled polyester         52  polyester\n",
       "...                       ...        ...        ...\n",
       "2357   65% recycled polyester         65  polyester\n",
       "2358   64% recycled polyester         64  polyester\n",
       "2359  100% recycled polyester        100  polyester\n",
       "2360   32% recycled polyester         32  polyester\n",
       "2361   83% recycled polyester         83  polyester\n",
       "\n",
       "[2330 rows x 3 columns]"
      ]
     },
     "execution_count": 28,
     "metadata": {},
     "output_type": "execute_result"
    }
   ],
   "source": [
    "recycled_percentages.drop(recycled_percentages[recycled_percentages['material'] == \"content\" ].index, inplace = True)\n",
    "recycled_percentages"
   ]
  },
  {
   "cell_type": "code",
   "execution_count": 29,
   "metadata": {},
   "outputs": [
    {
     "data": {
      "text/plain": [
       "string        string\n",
       "percentage     int64\n",
       "material      string\n",
       "dtype: object"
      ]
     },
     "execution_count": 29,
     "metadata": {},
     "output_type": "execute_result"
    }
   ],
   "source": [
    "recycled_percentages = recycled_percentages.astype({'percentage': 'int', 'string': 'string', 'material': 'string'})\n",
    "recycled_percentages.dtypes"
   ]
  },
  {
   "cell_type": "code",
   "execution_count": 52,
   "metadata": {},
   "outputs": [
    {
     "data": {
      "image/png": "[encoded data removed]",
      "text/plain": [
       "<Figure size 360x360 with 1 Axes>"
      ]
     },
     "metadata": {
      "needs_background": "light"
     },
     "output_type": "display_data"
    }
   ],
   "source": [
    "sns.set_palette('winter_r')\n",
    "sns.set_context('notebook')\n",
    "sns.catplot(x='material', y='percentage', kind='box', data=recycled_percentages[recycled_percentages.material.str.contains(\"polyester|cotton|nylon\")]).set(title=\"Distribution of Percentage of Recycled Materials Used Based on Material Type\")\n",
    "plt.savefig('../figures/recycledpercentage.png', bbox_inches='tight')"
   ]
  },
  {
   "cell_type": "code",
   "execution_count": 31,
   "metadata": {},
   "outputs": [
    {
     "data": {
      "text/plain": [
       "58.030685570013596"
      ]
     },
     "execution_count": 31,
     "metadata": {},
     "output_type": "execute_result"
    }
   ],
   "source": [
    "# # containing percentage less than 100 (blended) / total\n",
    "(combined[combined.materials.str.contains(r\"[1-9][0-9]%\")].materials.size)/(combined.materials.size) * 100"
   ]
  },
  {
   "cell_type": "code",
   "execution_count": 32,
   "metadata": {},
   "outputs": [
    {
     "data": {
      "text/plain": [
       "57.54545454545455"
      ]
     },
     "execution_count": 32,
     "metadata": {},
     "output_type": "execute_result"
    }
   ],
   "source": [
    "# # containing percentage recycled less than 100 (blended) / total recycled\n",
    "(combined[combined.materials.str.contains(r\"[1-9][0-9]% recycled\")].materials.size)/(combined[combined.materials.str.contains(r\"recycled\")].materials.size) * 100"
   ]
  }
 ],
 "metadata": {
  "interpreter": {
   "hash": "34810e3b8abeb1571717c8f8919795229980cb2ee192c7ee2ae46aa006f2e2cf"
  },
  "kernelspec": {
   "display_name": "Python 3.8.5 64-bit ('greenwashing-HaCD2V1s': venv)",
   "name": "python3"
  },
  "language_info": {
   "codemirror_mode": {
    "name": "ipython",
    "version": 3
   },
   "file_extension": ".py",
   "mimetype": "text/x-python",
   "name": "python",
   "nbconvert_exporter": "python",
   "pygments_lexer": "ipython3",
   "version": "3.8.5"
  },
  "orig_nbformat": 2
 },
 "nbformat": 4,
 "nbformat_minor": 2
}