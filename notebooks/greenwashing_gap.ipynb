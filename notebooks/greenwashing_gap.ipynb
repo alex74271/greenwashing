{
 "cells": [
  {
   "cell_type": "markdown",
   "metadata": {},
   "source": [
    "# Gap\n",
    "### from \"Men's Responsibly Made\" get the links to each product"
   ]
  },
  {
   "cell_type": "code",
   "execution_count": 2,
   "metadata": {
    "tags": []
   },
   "outputs": [
    {
     "name": "stdout",
     "output_type": "stream",
     "text": [
      "at bottom\n"
     ]
    },
    {
     "data": {
      "text/plain": [
       "218"
      ]
     },
     "execution_count": 2,
     "metadata": {},
     "output_type": "execute_result"
    }
   ],
   "source": [
    "from selenium import webdriver\n",
    "from time import sleep\n",
    "import random\n",
    "import pandas as pd\n",
    "\n",
    "sleepTimes = [2.1, 2.8, 3.2]\n",
    "\n",
    "url = \"https://www.gap.com/browse/category.do?cid=1149858&nav=hamnav%3AMen%3A%3AResponsibly-Made%20Shop#pageId=0&department=75\"\n",
    "driver = webdriver.Firefox()\n",
    "\n",
    "driver.get(url)\n",
    "y = 1000\n",
    "while y <= driver.execute_script(\"return document.body.scrollHeight\"):\n",
    "    driver.execute_script(\"window.scrollTo(0, \"+str(y)+\")\")\n",
    "    y += 1000\n",
    "    sleep(1)\n",
    "\n",
    "print(\"at bottom\")\n",
    "\n",
    "links = []\n",
    "for card in driver.find_elements_by_class_name('product-card-grid__item-1-2'):\n",
    "    try:\n",
    "        link = card.find_element_by_tag_name('a').get_attribute(\"href\")\n",
    "        links.append(link)\n",
    "    except:\n",
    "        print(len(links))\n",
    "        print(card.get_attribute('innerHTML'))\n",
    "\n",
    "len(links)"
   ]
  },
  {
   "cell_type": "markdown",
   "metadata": {},
   "source": [
    "218 items"
   ]
  },
  {
   "cell_type": "markdown",
   "metadata": {},
   "source": [
    "### visit each product link and get the material info"
   ]
  },
  {
   "cell_type": "code",
   "execution_count": 39,
   "metadata": {},
   "outputs": [
    {
     "data": {
      "text/plain": [
       "241"
      ]
     },
     "execution_count": 39,
     "metadata": {},
     "output_type": "execute_result"
    }
   ],
   "source": [
    "info_text = []\n",
    "for link in links:\n",
    "    driver.get(link)\n",
    "    try:\n",
    "        driver.find_element_by_css_selector('.promoDrawer__wrapper.is-expanded.promoDrawer__wrapper--opened').click()\n",
    "    except:\n",
    "        pass\n",
    "    sleep(2)\n",
    "    try:\n",
    "        driver.find_element_by_class_name('sitewide-1qosac6').click()\n",
    "        sleep(2)\n",
    "    except:\n",
    "        pass\n",
    "    driver.find_element_by_xpath('//button[@class=\"pdp-drawer-trigger\"][@aria-label=\"fabric & care - Opens Drawer\"]').click()\n",
    "    for span in driver.find_elements_by_xpath('//ul[@class=\"product-information-item__list\"]/li/span'):\n",
    "        if \"%\" in span.text:\n",
    "            info_text.append(span.text)\n",
    "        else:\n",
    "            continue\n",
    "    sleep(random.choice(sleepTimes))\n",
    "\n",
    "len(info_text)"
   ]
  },
  {
   "cell_type": "markdown",
   "metadata": {},
   "source": [
    "### save"
   ]
  },
  {
   "cell_type": "code",
   "execution_count": 40,
   "metadata": {},
   "outputs": [],
   "source": [
    "materials_gap = pd.Series(info_text)\n",
    "materials_gap.to_csv(\"materials_gap_men\")"
   ]
  },
  {
   "cell_type": "markdown",
   "metadata": {},
   "source": [
    "## Repeat Women"
   ]
  },
  {
   "cell_type": "markdown",
   "metadata": {},
   "source": [
    "### from \"Women's Responibly Made\" get the links to get each product"
   ]
  },
  {
   "cell_type": "code",
   "execution_count": 42,
   "metadata": {},
   "outputs": [
    {
     "name": "stdout",
     "output_type": "stream",
     "text": [
      "at bottom\n"
     ]
    },
    {
     "data": {
      "text/plain": [
       "453"
      ]
     },
     "execution_count": 42,
     "metadata": {},
     "output_type": "execute_result"
    }
   ],
   "source": [
    "url = \"https://www.gap.com/browse/category.do?cid=1147561&nav=hamnav%3AWomen%3AJust%20Arrived%3AResponsibly-Made%20Shop%20\"\n",
    "\n",
    "driver.get(url)\n",
    "y = 1000\n",
    "while y <= driver.execute_script(\"return document.body.scrollHeight\"):\n",
    "    driver.execute_script(\"window.scrollTo(0, \"+str(y)+\")\")\n",
    "    y += 1000\n",
    "    sleep(1)\n",
    "\n",
    "print(\"at bottom\")\n",
    "\n",
    "links_women = []\n",
    "for card in driver.find_elements_by_class_name('product-card-grid__item-1-2'):\n",
    "    try:\n",
    "        link = card.find_element_by_tag_name('a').get_attribute(\"href\")\n",
    "        links_women.append(link)\n",
    "    except:\n",
    "        print(len(links_women))\n",
    "        print(card.get_attribute('innerHTML'))\n",
    "\n",
    "len(links_women)\n",
    "\n",
    "# second page\n",
    "url = \"https://www.gap.com/browse/category.do?cid=1147561&nav=meganav%3AWomen%3AJust%20Arrived%3AResponsibly-Made%20Shop%20#pageId=1\"\n",
    "\n",
    "driver.get(url)\n",
    "y = 1000\n",
    "while y <= driver.execute_script(\"return document.body.scrollHeight\"):\n",
    "    driver.execute_script(\"window.scrollTo(0, \"+str(y)+\")\")\n",
    "    y += 1000\n",
    "    sleep(1)\n",
    "\n",
    "for card in driver.find_elements_by_class_name('product-card-grid__item-1-2'):\n",
    "    try:\n",
    "        link = card.find_element_by_tag_name('a').get_attribute(\"href\")\n",
    "        links_women.append(link)\n",
    "    except:\n",
    "        print(len(links_women))\n",
    "        print(card.get_attribute('innerHTML'))\n",
    "\n",
    "len(links_women)"
   ]
  },
  {
   "cell_type": "markdown",
   "metadata": {},
   "source": [
    "453 items"
   ]
  },
  {
   "cell_type": "markdown",
   "metadata": {},
   "source": [
    "### add Women's second page"
   ]
  },
  {
   "cell_type": "markdown",
   "metadata": {},
   "source": [
    "### visit each product link and get the material info"
   ]
  },
  {
   "cell_type": "code",
   "execution_count": 44,
   "metadata": {},
   "outputs": [
    {
     "data": {
      "text/plain": [
       "505"
      ]
     },
     "execution_count": 44,
     "metadata": {},
     "output_type": "execute_result"
    }
   ],
   "source": [
    "info_text_women = []\n",
    "for link in links_women:\n",
    "    driver.get(link)\n",
    "    try:\n",
    "        driver.find_element_by_css_selector('.promoDrawer__wrapper.is-expanded.promoDrawer__wrapper--opened').click()\n",
    "    except:\n",
    "        pass\n",
    "    sleep(2)\n",
    "    try:\n",
    "        driver.find_element_by_class_name('sitewide-1qosac6').click()\n",
    "        sleep(2)\n",
    "    except:\n",
    "        pass\n",
    "    driver.find_element_by_xpath('//button[@class=\"pdp-drawer-trigger\"][@aria-label=\"fabric & care - Opens Drawer\"]').click()\n",
    "    for span in driver.find_elements_by_xpath('//ul[@class=\"product-information-item__list\"]/li/span'):\n",
    "        if \"%\" in span.text:\n",
    "            info_text_women.append(span.text)\n",
    "        else:\n",
    "            continue\n",
    "    sleep(random.choice(sleepTimes))\n",
    "\n",
    "len(info_text_women)"
   ]
  },
  {
   "cell_type": "markdown",
   "metadata": {},
   "source": [
    "### save"
   ]
  },
  {
   "cell_type": "code",
   "execution_count": 45,
   "metadata": {},
   "outputs": [],
   "source": [
    "materials_gap_women = pd.Series(info_text_women)\n",
    "materials_gap_women.to_csv(\"materials_gap_women\")"
   ]
  },
  {
   "cell_type": "code",
   "execution_count": null,
   "metadata": {},
   "outputs": [],
   "source": []
  }
 ],
 "metadata": {
  "interpreter": {
   "hash": "34810e3b8abeb1571717c8f8919795229980cb2ee192c7ee2ae46aa006f2e2cf"
  },
  "kernelspec": {
   "display_name": "Python 3.8.5 64-bit ('greenwashing-HaCD2V1s': venv)",
   "name": "python3"
  },
  "language_info": {
   "name": "python",
   "version": ""
  },
  "orig_nbformat": 2
 },
 "nbformat": 4,
 "nbformat_minor": 2
}