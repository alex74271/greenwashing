{
 "metadata": {
  "language_info": {
   "codemirror_mode": {
    "name": "ipython",
    "version": 3
   },
   "file_extension": ".py",
   "mimetype": "text/x-python",
   "name": "python",
   "nbconvert_exporter": "python",
   "pygments_lexer": "ipython3",
   "version": "3.8.5"
  },
  "orig_nbformat": 2,
  "kernelspec": {
   "name": "python385jvsc74a57bd034810e3b8abeb1571717c8f8919795229980cb2ee192c7ee2ae46aa006f2e2cf",
   "display_name": "Python 3.8.5 64-bit ('greenwashing-HaCD2V1s': venv)"
  }
 },
 "nbformat": 4,
 "nbformat_minor": 2,
 "cells": [
  {
   "cell_type": "code",
   "execution_count": 2,
   "metadata": {},
   "outputs": [
    {
     "output_type": "execute_result",
     "data": {
      "text/plain": [
       "210"
      ]
     },
     "metadata": {},
     "execution_count": 2
    }
   ],
   "source": [
    "from selenium import webdriver\n",
    "from time import sleep\n",
    "from selenium.webdriver.firefox.options import Options\n",
    "from bs4 import BeautifulSoup\n",
    "\n",
    "options = Options()\n",
    "options.headless = True\n",
    "\n",
    "driver = webdriver.Firefox(options=options)\n",
    "url = \"https://usa.tommy.com/en/sustainability-styles-men\"\n",
    "driver.get(url)\n",
    "sleep(2)\n",
    "\n",
    "soup = BeautifulSoup(driver.page_source,'html.parser')\n",
    "\n",
    "links = []\n",
    "for link in soup.select('div.productImage > a'):\n",
    "    links.append(link['href'])\n",
    "\n",
    "driver.quit()\n",
    "len(links)"
   ]
  },
  {
   "cell_type": "code",
   "execution_count": 3,
   "metadata": {},
   "outputs": [
    {
     "output_type": "execute_result",
     "data": {
      "text/plain": [
       "382"
      ]
     },
     "metadata": {},
     "execution_count": 3
    }
   ],
   "source": [
    "driver = webdriver.Firefox(options=options)\n",
    "url = \"https://usa.tommy.com/en/sustainability-styles-women\"\n",
    "driver.get(url)\n",
    "sleep(2)\n",
    "\n",
    "soup = BeautifulSoup(driver.page_source,'html.parser')\n",
    "\n",
    "for link in soup.select('div.productImage > a'):\n",
    "    links.append(link['href'])\n",
    "\n",
    "driver.quit()\n",
    "len(links)"
   ]
  },
  {
   "source": [
    "382 items"
   ],
   "cell_type": "markdown",
   "metadata": {}
  },
  {
   "cell_type": "code",
   "execution_count": 4,
   "metadata": {},
   "outputs": [
    {
     "output_type": "stream",
     "name": "stdout",
     "text": [
      "Current progress: 100.0 %\n",
      "383\n"
     ]
    }
   ],
   "source": [
    "import random\n",
    "from selenium.webdriver.common.by import By\n",
    "from selenium.webdriver.support.ui import WebDriverWait\n",
    "from selenium.webdriver.support import expected_conditions as EC\n",
    "from IPython.display import clear_output\n",
    "import re\n",
    "\n",
    "driver = webdriver.Firefox(options=options)\n",
    "\n",
    "sleepTimes = [2.1, 2.8, 3.2]\n",
    "\n",
    "info_text = []\n",
    "for link in links:\n",
    "    clear_output(wait=True)\n",
    "    driver.get(link)\n",
    "    element = WebDriverWait(driver, 10).until(EC.presence_of_element_located((By.CLASS_NAME, \"description\")))\n",
    "    soup = BeautifulSoup(driver.page_source,'html.parser')\n",
    "\n",
    "    for li in soup.select('div.productBullets >  ul > li'):\n",
    "        if \"%\" in li.text:\n",
    "            info_text.append(li.text)\n",
    "        else:\n",
    "            continue\n",
    "\n",
    "    print(\"Current progress:\", round( ( (links.index(link) + 1) / len(links) )*100, 2 ), \"%\")\n",
    "    sleep(random.choice(sleepTimes))\n",
    "    \n",
    "driver.quit()\n",
    "print(len(info_text))"
   ]
  },
  {
   "cell_type": "code",
   "execution_count": 6,
   "metadata": {},
   "outputs": [],
   "source": [
    "import pandas as pd\n",
    "\n",
    "materials_tommy = pd.Series(info_text)\n",
    "materials_tommy.to_csv(\"materials_tommy.csv\")"
   ]
  },
  {
   "cell_type": "code",
   "execution_count": null,
   "metadata": {},
   "outputs": [],
   "source": []
  }
 ]
}